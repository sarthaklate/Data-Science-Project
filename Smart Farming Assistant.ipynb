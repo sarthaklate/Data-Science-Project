{
  "nbformat": 4,
  "nbformat_minor": 0,
  "metadata": {
    "colab": {
      "provenance": []
    },
    "kernelspec": {
      "name": "python3",
      "display_name": "Python 3"
    },
    "language_info": {
      "name": "python"
    }
  },
  "cells": [
    {
      "cell_type": "code",
      "execution_count": null,
      "metadata": {
        "id": "51-ab_u_3wkP"
      },
      "outputs": [],
      "source": []
    },
    {
      "cell_type": "code",
      "source": [
        "import requests\n",
        "#pip install langchain openai requests\n",
        "#from langchain.prompts import PromptTemplate\n",
        "#from langchain.chains import SequentialChain, LLMChain\n",
        "#from langchain.llms import OpenAI\n",
        "#from langchain.agents import Tool, initialize_agent\n",
        "#import requests\n",
        "\n",
        "\n",
        "# Step 1: Create a dictionary for soil-crop compatibility\n",
        "def get_soil_crop_mapping():\n",
        "    return {\n",
        "        \"black soil\": [\"wheat\", \"rice\", \"jowar\", \"bajra\", \"cotton\", \"sugarcane\"],\n",
        "        \"laterite soil\": [\"pulses\", \"onion\"],\n",
        "        \"alluvial soil\": [\"rice\", \"wheat\"],\n",
        "        \"red soil\": [\"rice\"],\n",
        "        \"marshy soil\": [\"sugarcane\"],\n",
        "    }\n",
        "\n",
        "# Step 2: Validate soil-crop compatibility\n",
        "def validate_soil_crop(soil_type, crop_type, soil_crop_mapping):\n",
        "    soil_type = soil_type.strip().lower()\n",
        "    crop_type = crop_type.strip().lower()\n",
        "\n",
        "    if soil_type not in soil_crop_mapping:\n",
        "        return False, [], f\"The soil type '{soil_type}' is not valid. Please provide a valid soil type.\"\n",
        "\n",
        "    suitable_crops = soil_crop_mapping.get(soil_type, [])\n",
        "    if crop_type in suitable_crops:\n",
        "        return True, [], f\"The crop '{crop_type}' is suitable for {soil_type}. Here are some other crops suitable for {soil_type}: {', '.join(suitable_crops)}.\"\n",
        "    else:\n",
        "        return False, suitable_crops, f\"The crop '{crop_type}' is not suitable for {soil_type}. However, here are some crops suitable for {soil_type}: {', '.join(suitable_crops)}.\"\n",
        "\n",
        "# Step 3: Fetch real-time weather data\n",
        "def get_weather_data(location):\n",
        "    api_key = \"db25e6c2b3448b5d3a1a14a30a4dc04e\"  # Replace with your OpenWeatherMap API key\n",
        "    url = f\"http://api.openweathermap.org/data/2.5/weather?q={location}&appid={api_key}&units=metric\"\n",
        "    try:\n",
        "        response = requests.get(url)\n",
        "        if response.status_code == 200:\n",
        "            data = response.json()\n",
        "            weather = {\n",
        "                \"temperature\": data[\"main\"][\"temp\"],\n",
        "                \"description\": data[\"weather\"][0][\"description\"],\n",
        "                \"rain\": \"rain\" in data\n",
        "            }\n",
        "            return weather\n",
        "        else:\n",
        "            return {\"error\": f\"Failed to fetch weather data for {location}. Please check the location or try again later.\"}\n",
        "    except Exception as e:\n",
        "        return {\"error\": str(e)}\n",
        "\n",
        "# Step 4: Analyze weather data and provide advice\n",
        "def analyze_weather(weather):\n",
        "    if \"error\" in weather:\n",
        "        return weather[\"error\"]\n",
        "    if weather[\"rain\"]:\n",
        "        return f\"The weather is rainy with '{weather['description']}'. It is recommended to wait until the rain stops before planting.\"\n",
        "    elif weather[\"temperature\"] < 20:\n",
        "        return f\"The temperature is too low ({weather['temperature']}°C) for planting. Please wait for warmer conditions.\"\n",
        "    else:\n",
        "        return f\"The weather is suitable for planting. Current conditions: {weather['description']} at {weather['temperature']}°C.\"\n",
        "\n",
        "# Step 5: Parse the prompt to extract soil, crop, and location\n",
        "def parse_prompt(prompt):\n",
        "    # Predefined soil types and crops\n",
        "    soil_types = [\"black soil\", \"laterite soil\", \"alluvial soil\", \"red soil\", \"marshy soil\"]\n",
        "    crops = [\"wheat\", \"rice\", \"jowar\", \"bajra\", \"cotton\", \"sugarcane\", \"pulses\", \"onion\"]\n",
        "\n",
        "    # Extract soil type\n",
        "    soil_type = next((soil for soil in soil_types if soil in prompt.lower()), None)\n",
        "\n",
        "    # Extract crop type\n",
        "    crop_type = next((crop for crop in crops if crop in prompt.lower()), None)\n",
        "\n",
        "    # Extract location\n",
        "    location = None\n",
        "    for sentence in prompt.split('.'):\n",
        "        if \"live in\" in sentence.lower():\n",
        "            location = sentence.lower().split(\"live in\")[-1].strip()\n",
        "\n",
        "    return soil_type, crop_type, location\n",
        "\n",
        "# Step 6: Main function to integrate all steps\n",
        "def process_prompt(prompt):\n",
        "    # Get soil-crop mapping\n",
        "    soil_crop_mapping = get_soil_crop_mapping()\n",
        "\n",
        "    # Parse the prompt\n",
        "    soil_type, crop_type, location = parse_prompt(prompt)\n",
        "\n",
        "    if not soil_type or not crop_type or not location:\n",
        "        return \"Invalid prompt! Please provide soil type, crop type, and location in your prompt.\"\n",
        "\n",
        "    # Validate soil-crop compatibility\n",
        "    is_valid, suitable_crops, response = validate_soil_crop(soil_type, crop_type, soil_crop_mapping)\n",
        "\n",
        "    # Fetch real-time weather data if validation succeeds\n",
        "    if is_valid:\n",
        "        weather = get_weather_data(location)\n",
        "        weather_advice = analyze_weather(weather)\n",
        "        return f\"{response}\\n\\n{weather_advice}\"\n",
        "    else:\n",
        "        return response\n",
        "\n",
        "# Input prompt directly in the code\n",
        "prompt = \"I have red soil and I want to plant rice. I live in Pune .\"\n",
        "\n",
        "# Process the prompt and display the result\n",
        "result = process_prompt(prompt)\n",
        "print(result)"
      ],
      "metadata": {
        "colab": {
          "base_uri": "https://localhost:8080/"
        },
        "id": "KYyo-kaw3xOl",
        "outputId": "039e30cd-dc67-4e8b-b113-f0269ac84d55"
      },
      "execution_count": 12,
      "outputs": [
        {
          "output_type": "stream",
          "name": "stdout",
          "text": [
            "The crop 'rice' is suitable for red soil. Here are some other crops suitable for red soil: rice.\n",
            "\n",
            "The weather is suitable for planting. Current conditions: broken clouds at 25.85°C.\n"
          ]
        }
      ]
    },
    {
      "cell_type": "code",
      "source": [],
      "metadata": {
        "id": "Gcv3MLLv3xR5"
      },
      "execution_count": null,
      "outputs": []
    }
  ]
}