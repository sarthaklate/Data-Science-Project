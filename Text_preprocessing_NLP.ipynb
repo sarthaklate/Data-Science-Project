{
 "cells": [
  {
   "cell_type": "code",
   "execution_count": 1,
   "id": "09a5d0c6-1184-42eb-a5b6-4e83c0c5b29d",
   "metadata": {},
   "outputs": [],
   "source": [
    "import numpy as np\n",
    "import pandas as pd\n",
    "import nltk\n",
    "import re"
   ]
  },
  {
   "cell_type": "markdown",
   "id": "88d2daca-0869-4e95-b92a-94b53aada7eb",
   "metadata": {},
   "source": [
    "# Text cleanup\n",
    "1) HTML tags remove\n",
    "2) remove emoji\n",
    "3) spelling checker (correction)\n",
    "\n",
    "# Basic text processing\n",
    "1) basic ---> 1) Tokenization ---> sentance toke,word toke\n",
    "2) optional ---> 1) remove stopwords 2) stemming 3) remove digit and puncutuation\n",
    "    4) lemmatization 5) lnaguage detection\n",
    "\n",
    "\n",
    "# Advance Text Preprocessing\n",
    "1) Parts of speech tagging\n",
    "2) parsing\n",
    "3) co refrence resolution "
   ]
  },
  {
   "cell_type": "code",
   "execution_count": 9,
   "id": "16b05763-f7ad-4f2e-bd79-3a99775f4690",
   "metadata": {},
   "outputs": [],
   "source": [
    "# html tag remove\n",
    "\n",
    "text = \"\"\"One of the other reviewers has mentioned that after watching \n",
    "just 1 Oz episode you'll be hooked. They are right, as this is exactly what \n",
    "happened with me.<br /><br />The first thing that struck me about Oz was its brutality \n",
    "and unflinching scenes of violence, which set in right from the word GO. Trust me, \n",
    "this is not a show for the faint hearted or timid. This show pulls no punches with \n",
    "regards to drugs, sex or violence. Its is hardcore, in the classic use of the word.\n",
    "<br /><br />It is called OZ as that is the nickname given to the Oswald Maximum \n",
    "Security State Penitentary. It focuses mainly on Emerald City, an experimental \n",
    "section of the prison where all the cells have glass fronts and face inwards, \n",
    "so privacy is not high on the agenda. Em City is home to many..Aryans, Muslims, \n",
    "gangstas, Latinos, Christians, Italians, Irish and more....so scuffles, death stares, \n",
    "dodgy dealings and shady agreements are never far away.<br /><br />I would say\"\"\"\n",
    "\n"
   ]
  },
  {
   "cell_type": "code",
   "execution_count": 11,
   "id": "5dc51d38-87d3-4772-9718-f41a69af4f5d",
   "metadata": {},
   "outputs": [],
   "source": [
    "def remove_html(text):\n",
    "    clean = re.compile(\"<.*?>\")\n",
    "    return re.sub(clean,\"\",text)"
   ]
  },
  {
   "cell_type": "code",
   "execution_count": 13,
   "id": "f5936c38-7dfd-4a9d-be9e-35f1c72f6f56",
   "metadata": {},
   "outputs": [
    {
     "data": {
      "text/plain": [
       "\"One of the other reviewers has mentioned that after watching \\njust 1 Oz episode you'll be hooked. They are right, as this is exactly what \\nhappened with me.The first thing that struck me about Oz was its brutality \\nand unflinching scenes of violence, which set in right from the word GO. Trust me, \\nthis is not a show for the faint hearted or timid. This show pulls no punches with \\nregards to drugs, sex or violence. Its is hardcore, in the classic use of the word.\\nIt is called OZ as that is the nickname given to the Oswald Maximum \\nSecurity State Penitentary. It focuses mainly on Emerald City, an experimental \\nsection of the prison where all the cells have glass fronts and face inwards, \\nso privacy is not high on the agenda. Em City is home to many..Aryans, Muslims, \\ngangstas, Latinos, Christians, Italians, Irish and more....so scuffles, death stares, \\ndodgy dealings and shady agreements are never far away.I would say\""
      ]
     },
     "execution_count": 13,
     "metadata": {},
     "output_type": "execute_result"
    }
   ],
   "source": [
    "remove_html(text)"
   ]
  },
  {
   "cell_type": "code",
   "execution_count": 29,
   "id": "49e4b072-c140-4c70-ad68-9156ac7b9dfb",
   "metadata": {},
   "outputs": [
    {
     "data": {
      "text/plain": [
       "(100, 2)"
      ]
     },
     "execution_count": 29,
     "metadata": {},
     "output_type": "execute_result"
    }
   ],
   "source": [
    "df=pd.read_csv(\"C:\\\\Users\\\\user5\\\\Downloads\\\\IMDB Dataset.csv\")\n",
    "df = df.sample(100)\n",
    "df.shape"
   ]
  },
  {
   "cell_type": "code",
   "execution_count": 25,
   "id": "5e571046-d94c-4eb0-974d-2d9855a05551",
   "metadata": {},
   "outputs": [
    {
     "data": {
      "text/plain": [
       "'Petter Mattei\\'s \"Love in the Time of Money\" is a visually stunning film to watch. Mr. Mattei offers us a vivid portrait about human relations. This is a movie that seems to be telling us what money, power and success do to people in the different situations we encounter. This being a variation on the Arthur Schnitzler\\'s play about the same theme, the director transfers the action to the present time New York where all these different characters meet and connect. Each one is connected in one way, or another to the next person, but no one seems to know the previous point of contact. Stylishly, the film has a sophisticated luxurious look. We are taken to see how these people live and the world they live in their own habitat.The only thing one gets out of all these souls in the picture is the different stages of loneliness each one inhabits. A big city is not exactly the best place in which human relations find sincere fulfillment, as one discerns is the case with most of the people we encounter.The acting is good under Mr. Mattei\\'s direction. Steve Buscemi, Rosario Dawson, Carol Kane, Michael Imperioli, Adrian Grenier, and the rest of the talented cast, make these characters come alive.We wish Mr. Mattei good luck and await anxiously for his next work.'"
      ]
     },
     "execution_count": 25,
     "metadata": {},
     "output_type": "execute_result"
    }
   ],
   "source": [
    "remove_html(df[\"review\"][4])"
   ]
  },
  {
   "cell_type": "code",
   "execution_count": 39,
   "id": "6968f2ed-a164-495d-9bb9-c369e88768a3",
   "metadata": {
    "scrolled": true
   },
   "outputs": [
    {
     "data": {
      "text/html": [
       "<div>\n",
       "<style scoped>\n",
       "    .dataframe tbody tr th:only-of-type {\n",
       "        vertical-align: middle;\n",
       "    }\n",
       "\n",
       "    .dataframe tbody tr th {\n",
       "        vertical-align: top;\n",
       "    }\n",
       "\n",
       "    .dataframe thead th {\n",
       "        text-align: right;\n",
       "    }\n",
       "</style>\n",
       "<table border=\"1\" class=\"dataframe\">\n",
       "  <thead>\n",
       "    <tr style=\"text-align: right;\">\n",
       "      <th></th>\n",
       "      <th>review</th>\n",
       "      <th>sentiment</th>\n",
       "    </tr>\n",
       "  </thead>\n",
       "  <tbody>\n",
       "    <tr>\n",
       "      <th>6989</th>\n",
       "      <td>This stirring western spins the tale of the fa...</td>\n",
       "      <td>positive</td>\n",
       "    </tr>\n",
       "    <tr>\n",
       "      <th>18687</th>\n",
       "      <td>Blood Castle (aka Scream of the Demon Lover, A...</td>\n",
       "      <td>positive</td>\n",
       "    </tr>\n",
       "    <tr>\n",
       "      <th>46123</th>\n",
       "      <td>In \"Hoot\", a new kid arrives to Florida from M...</td>\n",
       "      <td>positive</td>\n",
       "    </tr>\n",
       "    <tr>\n",
       "      <th>10145</th>\n",
       "      <td>I would not hesitate to put this adaptation of...</td>\n",
       "      <td>positive</td>\n",
       "    </tr>\n",
       "    <tr>\n",
       "      <th>32066</th>\n",
       "      <td>-Facts (I): \"Mar Adentro\" relates the well-kno...</td>\n",
       "      <td>positive</td>\n",
       "    </tr>\n",
       "    <tr>\n",
       "      <th>...</th>\n",
       "      <td>...</td>\n",
       "      <td>...</td>\n",
       "    </tr>\n",
       "    <tr>\n",
       "      <th>36966</th>\n",
       "      <td>A terrific B-feature. A virtual two-hander and...</td>\n",
       "      <td>positive</td>\n",
       "    </tr>\n",
       "    <tr>\n",
       "      <th>38944</th>\n",
       "      <td>I am a MAJOR fan of the horror genre! I LOVE h...</td>\n",
       "      <td>negative</td>\n",
       "    </tr>\n",
       "    <tr>\n",
       "      <th>32407</th>\n",
       "      <td>This movie examines the now infamous Wannsee C...</td>\n",
       "      <td>negative</td>\n",
       "    </tr>\n",
       "    <tr>\n",
       "      <th>11943</th>\n",
       "      <td>This movie is just too funny, a totally non-PC...</td>\n",
       "      <td>positive</td>\n",
       "    </tr>\n",
       "    <tr>\n",
       "      <th>26990</th>\n",
       "      <td>I saw this movie when I was in Israel for the ...</td>\n",
       "      <td>positive</td>\n",
       "    </tr>\n",
       "  </tbody>\n",
       "</table>\n",
       "<p>100 rows × 2 columns</p>\n",
       "</div>"
      ],
      "text/plain": [
       "                                                  review sentiment\n",
       "6989   This stirring western spins the tale of the fa...  positive\n",
       "18687  Blood Castle (aka Scream of the Demon Lover, A...  positive\n",
       "46123  In \"Hoot\", a new kid arrives to Florida from M...  positive\n",
       "10145  I would not hesitate to put this adaptation of...  positive\n",
       "32066  -Facts (I): \"Mar Adentro\" relates the well-kno...  positive\n",
       "...                                                  ...       ...\n",
       "36966  A terrific B-feature. A virtual two-hander and...  positive\n",
       "38944  I am a MAJOR fan of the horror genre! I LOVE h...  negative\n",
       "32407  This movie examines the now infamous Wannsee C...  negative\n",
       "11943  This movie is just too funny, a totally non-PC...  positive\n",
       "26990  I saw this movie when I was in Israel for the ...  positive\n",
       "\n",
       "[100 rows x 2 columns]"
      ]
     },
     "execution_count": 39,
     "metadata": {},
     "output_type": "execute_result"
    }
   ],
   "source": [
    "df[\"review\"] = df[\"review\"].apply(remove_html)\n",
    "df"
   ]
  },
  {
   "cell_type": "code",
   "execution_count": 41,
   "id": "83fba9a5-e95b-488d-bf4f-02d0b887bc23",
   "metadata": {},
   "outputs": [
    {
     "data": {
      "text/plain": [
       "\"This stirring western spins the tale of the famous rifle of the early west that was coveted by one and all. James Stewart is the cowboy who wins the prized Winchester in a shootout, only to lose it in a robbery. The story details Stewart's pursuit of the rifle and a certain man through the film. The rifle changes hands time after time, as though the owner is fated to lose it through violence. The picture has plenty of action and suspense as Stewart closes in on his quarry. A great cast supports Stewart here, namely Stephen McNally, Dan Duryea, Millard Mitchell, John McIntire and Jay C. Flippen. Shelley Winters seems miscast here and the purpose of her role is rather obscure. Tony Curtis and Rock Hudson, teen heartthrobs in later years, have brief but good roles.\""
      ]
     },
     "execution_count": 41,
     "metadata": {},
     "output_type": "execute_result"
    }
   ],
   "source": [
    "df[\"review\"][6989]"
   ]
  },
  {
   "cell_type": "code",
   "execution_count": 53,
   "id": "ae243b7d-e23b-4ae6-b67d-7f672a4f19fe",
   "metadata": {},
   "outputs": [],
   "source": [
    "# url remove\n",
    "import re \n",
    "def remove_urls(text):\n",
    "    url_pattern = r\"(?:http|https|ftp)://[^ ]+\"\n",
    "    return re.sub(url_pattern,\"\",text)"
   ]
  },
  {
   "cell_type": "code",
   "execution_count": 59,
   "id": "7de92932-7f0e-4e4e-aee5-355aed21ea98",
   "metadata": {},
   "outputs": [],
   "source": [
    "text1 = \"check notebook here https://colab.research.google.com/drive\"\n",
    "text2 = \"check notebook here www.google.com\""
   ]
  },
  {
   "cell_type": "code",
   "execution_count": 61,
   "id": "1e4bc8ca-4b64-4319-8834-1f805ad827ea",
   "metadata": {},
   "outputs": [
    {
     "data": {
      "text/plain": [
       "'check notebook here www.google.com'"
      ]
     },
     "execution_count": 61,
     "metadata": {},
     "output_type": "execute_result"
    }
   ],
   "source": [
    "remove_urls(text2)"
   ]
  },
  {
   "cell_type": "markdown",
   "id": "df331c9b-83c0-4052-8176-aef57cf834ef",
   "metadata": {},
   "source": [
    "# remove digits and punctuation\n",
    "hii! how are you?"
   ]
  },
  {
   "cell_type": "code",
   "execution_count": 64,
   "id": "d818a474-8dd7-47b0-8bda-800c9263ec0a",
   "metadata": {},
   "outputs": [
    {
     "data": {
      "text/plain": [
       "'!\"#$%&\\'()*+,-./:;<=>?@[\\\\]^_`{|}~'"
      ]
     },
     "execution_count": 64,
     "metadata": {},
     "output_type": "execute_result"
    }
   ],
   "source": [
    "import string \n",
    "string.punctuation"
   ]
  },
  {
   "cell_type": "code",
   "execution_count": 66,
   "id": "bca9e519-90ee-4ae3-86a5-d7df32de3a4a",
   "metadata": {},
   "outputs": [],
   "source": [
    "exclude = string.punctuation"
   ]
  },
  {
   "cell_type": "code",
   "execution_count": 68,
   "id": "2940938d-8dca-41fc-a31c-6e844f503c4b",
   "metadata": {},
   "outputs": [],
   "source": [
    "def remove_punc(text):\n",
    "    for i in exclude:\n",
    "        text = text.replace(i,\"\")\n",
    "    return text"
   ]
  },
  {
   "cell_type": "code",
   "execution_count": 70,
   "id": "b7870965-591a-46ab-9558-785e71541f33",
   "metadata": {},
   "outputs": [],
   "source": [
    "text2 = \"string..! with punctuations?\""
   ]
  },
  {
   "cell_type": "code",
   "execution_count": 72,
   "id": "b7e5bca1-55f6-4b39-8fbd-71c412644fc4",
   "metadata": {},
   "outputs": [
    {
     "data": {
      "text/plain": [
       "'string with punctuations'"
      ]
     },
     "execution_count": 72,
     "metadata": {},
     "output_type": "execute_result"
    }
   ],
   "source": [
    "remove_punc(text2)"
   ]
  },
  {
   "cell_type": "code",
   "execution_count": 74,
   "id": "d3e53ae4-2e5f-49a2-af5d-8dd649d9cfea",
   "metadata": {},
   "outputs": [],
   "source": [
    "def remove_digit(text):\n",
    "    x=\" \"\n",
    "    for i in text:\n",
    "        if i.isalpha():\n",
    "            x=x+i\n",
    "        else:\n",
    "            x=x+\" \"\n",
    "    return x"
   ]
  },
  {
   "cell_type": "code",
   "execution_count": 76,
   "id": "6fc2e8a6-01b1-4495-b810-431f14c92803",
   "metadata": {},
   "outputs": [],
   "source": [
    "text3 = \"string..! with 3 punctuations?\""
   ]
  },
  {
   "cell_type": "code",
   "execution_count": 78,
   "id": "51a9e97b-0763-46fc-bad4-145327ca3c05",
   "metadata": {},
   "outputs": [
    {
     "data": {
      "text/plain": [
       "' string    with   punctuations '"
      ]
     },
     "execution_count": 78,
     "metadata": {},
     "output_type": "execute_result"
    }
   ],
   "source": [
    "remove_digit(text3)"
   ]
  },
  {
   "cell_type": "code",
   "execution_count": 88,
   "id": "79976448-65b9-4c87-8176-6832639e31b8",
   "metadata": {},
   "outputs": [
    {
     "name": "stdout",
     "output_type": "stream",
     "text": [
      "Collecting textblob\n",
      "  Downloading textblob-0.19.0-py3-none-any.whl.metadata (4.4 kB)\n",
      "Collecting nltk>=3.9 (from textblob)\n",
      "  Downloading nltk-3.9.1-py3-none-any.whl.metadata (2.9 kB)\n",
      "Requirement already satisfied: click in c:\\users\\user5\\anaconda3\\lib\\site-packages (from nltk>=3.9->textblob) (8.1.7)\n",
      "Requirement already satisfied: joblib in c:\\users\\user5\\anaconda3\\lib\\site-packages (from nltk>=3.9->textblob) (1.4.2)\n",
      "Requirement already satisfied: regex>=2021.8.3 in c:\\users\\user5\\anaconda3\\lib\\site-packages (from nltk>=3.9->textblob) (2023.10.3)\n",
      "Requirement already satisfied: tqdm in c:\\users\\user5\\anaconda3\\lib\\site-packages (from nltk>=3.9->textblob) (4.66.4)\n",
      "Requirement already satisfied: colorama in c:\\users\\user5\\anaconda3\\lib\\site-packages (from click->nltk>=3.9->textblob) (0.4.6)\n",
      "Downloading textblob-0.19.0-py3-none-any.whl (624 kB)\n",
      "   ---------------------------------------- 0.0/624.3 kB ? eta -:--:--\n",
      "   ---------------------------------------- 0.0/624.3 kB ? eta -:--:--\n",
      "    --------------------------------------- 10.2/624.3 kB ? eta -:--:--\n",
      "    --------------------------------------- 10.2/624.3 kB ? eta -:--:--\n",
      "   - ------------------------------------- 30.7/624.3 kB 262.6 kB/s eta 0:00:03\n",
      "   -- ------------------------------------ 41.0/624.3 kB 245.8 kB/s eta 0:00:03\n",
      "   -- ------------------------------------ 41.0/624.3 kB 245.8 kB/s eta 0:00:03\n",
      "   ----- --------------------------------- 81.9/624.3 kB 286.7 kB/s eta 0:00:02\n",
      "   ----- --------------------------------- 81.9/624.3 kB 286.7 kB/s eta 0:00:02\n",
      "   ------- ------------------------------ 122.9/624.3 kB 327.4 kB/s eta 0:00:02\n",
      "   -------- ----------------------------- 143.4/624.3 kB 340.5 kB/s eta 0:00:02\n",
      "   -------- ----------------------------- 143.4/624.3 kB 340.5 kB/s eta 0:00:02\n",
      "   ---------------- --------------------- 276.5/624.3 kB 532.5 kB/s eta 0:00:01\n",
      "   ---------------- --------------------- 276.5/624.3 kB 532.5 kB/s eta 0:00:01\n",
      "   ------------------------- ------------ 419.8/624.3 kB 672.6 kB/s eta 0:00:01\n",
      "   -------------------------- ----------- 440.3/624.3 kB 706.2 kB/s eta 0:00:01\n",
      "   ------------------------------- ------ 522.2/624.3 kB 728.3 kB/s eta 0:00:01\n",
      "   ------------------------------------ - 604.2/624.3 kB 809.2 kB/s eta 0:00:01\n",
      "   -------------------------------------  614.4/624.3 kB 788.7 kB/s eta 0:00:01\n",
      "   -------------------------------------- 624.3/624.3 kB 756.2 kB/s eta 0:00:00\n",
      "Downloading nltk-3.9.1-py3-none-any.whl (1.5 MB)\n",
      "   ---------------------------------------- 0.0/1.5 MB ? eta -:--:--\n",
      "   -- ------------------------------------- 0.1/1.5 MB 1.7 MB/s eta 0:00:01\n",
      "   ----- ---------------------------------- 0.2/1.5 MB 2.4 MB/s eta 0:00:01\n",
      "   ------- -------------------------------- 0.3/1.5 MB 2.0 MB/s eta 0:00:01\n",
      "   ----------- ---------------------------- 0.4/1.5 MB 2.4 MB/s eta 0:00:01\n",
      "   ----------------- ---------------------- 0.7/1.5 MB 2.8 MB/s eta 0:00:01\n",
      "   -------------------- ------------------- 0.8/1.5 MB 2.7 MB/s eta 0:00:01\n",
      "   ------------------------ --------------- 0.9/1.5 MB 2.8 MB/s eta 0:00:01\n",
      "   ------------------------------ --------- 1.1/1.5 MB 3.0 MB/s eta 0:00:01\n",
      "   ------------------------------------ --- 1.4/1.5 MB 3.3 MB/s eta 0:00:01\n",
      "   ---------------------------------------  1.5/1.5 MB 3.3 MB/s eta 0:00:01\n",
      "   ---------------------------------------- 1.5/1.5 MB 3.0 MB/s eta 0:00:00\n",
      "Installing collected packages: nltk, textblob\n",
      "  Attempting uninstall: nltk\n",
      "    Found existing installation: nltk 3.8.1\n",
      "    Uninstalling nltk-3.8.1:\n",
      "      Successfully uninstalled nltk-3.8.1\n",
      "Successfully installed nltk-3.9.1 textblob-0.19.0\n"
     ]
    }
   ],
   "source": [
    "!pip install textblob"
   ]
  },
  {
   "cell_type": "code",
   "execution_count": 90,
   "id": "27dafefd-85bc-4e1a-b197-0b2d261b764b",
   "metadata": {},
   "outputs": [],
   "source": [
    "# spell check\n",
    "import textblob"
   ]
  },
  {
   "cell_type": "code",
   "execution_count": 92,
   "id": "30e1f10d-e593-45eb-adcf-79624e2ea49c",
   "metadata": {},
   "outputs": [],
   "source": [
    "from textblob import TextBlob"
   ]
  },
  {
   "cell_type": "code",
   "execution_count": 94,
   "id": "436deda8-0a4e-4e69-8e58-40ce790b7e54",
   "metadata": {},
   "outputs": [],
   "source": [
    "incorrect_text = \"ccertain ccondition durring seveal grnrrations modifyedd arre sammee manner\""
   ]
  },
  {
   "cell_type": "code",
   "execution_count": 96,
   "id": "34137813-0c46-453a-bb30-0cc21bfce8b5",
   "metadata": {},
   "outputs": [
    {
     "data": {
      "text/plain": [
       "TextBlob(\"certain condition during several generations modified are same manner\")"
      ]
     },
     "execution_count": 96,
     "metadata": {},
     "output_type": "execute_result"
    }
   ],
   "source": [
    "from textblob import TextBlob\n",
    "incorrect_text = \"ccertain ccondition durring seveal grnrrations modifyedd arre sammee manner\"\n",
    "textbolb = TextBlob(incorrect_text)\n",
    "textbolb.correct()"
   ]
  },
  {
   "cell_type": "code",
   "execution_count": 104,
   "id": "a6a9e718-0a5f-4ce1-a48e-d5fd641f0e53",
   "metadata": {},
   "outputs": [
    {
     "data": {
      "text/plain": [
       "['i',\n",
       " 'me',\n",
       " 'my',\n",
       " 'myself',\n",
       " 'we',\n",
       " 'our',\n",
       " 'ours',\n",
       " 'ourselves',\n",
       " 'you',\n",
       " \"you're\",\n",
       " \"you've\",\n",
       " \"you'll\",\n",
       " \"you'd\",\n",
       " 'your',\n",
       " 'yours',\n",
       " 'yourself',\n",
       " 'yourselves',\n",
       " 'he',\n",
       " 'him',\n",
       " 'his',\n",
       " 'himself',\n",
       " 'she',\n",
       " \"she's\",\n",
       " 'her',\n",
       " 'hers',\n",
       " 'herself',\n",
       " 'it',\n",
       " \"it's\",\n",
       " 'its',\n",
       " 'itself',\n",
       " 'they',\n",
       " 'them',\n",
       " 'their',\n",
       " 'theirs',\n",
       " 'themselves',\n",
       " 'what',\n",
       " 'which',\n",
       " 'who',\n",
       " 'whom',\n",
       " 'this',\n",
       " 'that',\n",
       " \"that'll\",\n",
       " 'these',\n",
       " 'those',\n",
       " 'am',\n",
       " 'is',\n",
       " 'are',\n",
       " 'was',\n",
       " 'were',\n",
       " 'be',\n",
       " 'been',\n",
       " 'being',\n",
       " 'have',\n",
       " 'has',\n",
       " 'had',\n",
       " 'having',\n",
       " 'do',\n",
       " 'does',\n",
       " 'did',\n",
       " 'doing',\n",
       " 'a',\n",
       " 'an',\n",
       " 'the',\n",
       " 'and',\n",
       " 'but',\n",
       " 'if',\n",
       " 'or',\n",
       " 'because',\n",
       " 'as',\n",
       " 'until',\n",
       " 'while',\n",
       " 'of',\n",
       " 'at',\n",
       " 'by',\n",
       " 'for',\n",
       " 'with',\n",
       " 'about',\n",
       " 'against',\n",
       " 'between',\n",
       " 'into',\n",
       " 'through',\n",
       " 'during',\n",
       " 'before',\n",
       " 'after',\n",
       " 'above',\n",
       " 'below',\n",
       " 'to',\n",
       " 'from',\n",
       " 'up',\n",
       " 'down',\n",
       " 'in',\n",
       " 'out',\n",
       " 'on',\n",
       " 'off',\n",
       " 'over',\n",
       " 'under',\n",
       " 'again',\n",
       " 'further',\n",
       " 'then',\n",
       " 'once',\n",
       " 'here',\n",
       " 'there',\n",
       " 'when',\n",
       " 'where',\n",
       " 'why',\n",
       " 'how',\n",
       " 'all',\n",
       " 'any',\n",
       " 'both',\n",
       " 'each',\n",
       " 'few',\n",
       " 'more',\n",
       " 'most',\n",
       " 'other',\n",
       " 'some',\n",
       " 'such',\n",
       " 'no',\n",
       " 'nor',\n",
       " 'not',\n",
       " 'only',\n",
       " 'own',\n",
       " 'same',\n",
       " 'so',\n",
       " 'than',\n",
       " 'too',\n",
       " 'very',\n",
       " 's',\n",
       " 't',\n",
       " 'can',\n",
       " 'will',\n",
       " 'just',\n",
       " 'don',\n",
       " \"don't\",\n",
       " 'should',\n",
       " \"should've\",\n",
       " 'now',\n",
       " 'd',\n",
       " 'll',\n",
       " 'm',\n",
       " 'o',\n",
       " 're',\n",
       " 've',\n",
       " 'y',\n",
       " 'ain',\n",
       " 'aren',\n",
       " \"aren't\",\n",
       " 'couldn',\n",
       " \"couldn't\",\n",
       " 'didn',\n",
       " \"didn't\",\n",
       " 'doesn',\n",
       " \"doesn't\",\n",
       " 'hadn',\n",
       " \"hadn't\",\n",
       " 'hasn',\n",
       " \"hasn't\",\n",
       " 'haven',\n",
       " \"haven't\",\n",
       " 'isn',\n",
       " \"isn't\",\n",
       " 'ma',\n",
       " 'mightn',\n",
       " \"mightn't\",\n",
       " 'mustn',\n",
       " \"mustn't\",\n",
       " 'needn',\n",
       " \"needn't\",\n",
       " 'shan',\n",
       " \"shan't\",\n",
       " 'shouldn',\n",
       " \"shouldn't\",\n",
       " 'wasn',\n",
       " \"wasn't\",\n",
       " 'weren',\n",
       " \"weren't\",\n",
       " 'won',\n",
       " \"won't\",\n",
       " 'wouldn',\n",
       " \"wouldn't\"]"
      ]
     },
     "execution_count": 104,
     "metadata": {},
     "output_type": "execute_result"
    }
   ],
   "source": [
    "# remove stopwords \n",
    "import nltk\n",
    "from nltk.corpus import stopwords\n",
    "stopwords.words(\"english\")"
   ]
  },
  {
   "cell_type": "code",
   "execution_count": 108,
   "id": "e7064f07-5f16-4e30-8259-6b13be2e9c60",
   "metadata": {},
   "outputs": [],
   "source": [
    "def remove_stopwords(text):\n",
    "    x = []\n",
    "    for i in text.split():\n",
    "\n",
    "        if i not in stopwords.words(\"english\"):\n",
    "            x.append(i)\n",
    "    y=x[:]\n",
    "    x.clear()\n",
    "    return y"
   ]
  },
  {
   "cell_type": "code",
   "execution_count": 110,
   "id": "574ee87e-cd8e-4cfa-8faf-6b3b2cae70b6",
   "metadata": {},
   "outputs": [],
   "source": [
    "text4 = \"\"\"this film marked the end of the  serious  universal monsters era  \n",
    "abbott and costello meet up with the monsters later in  abbott and costello meet \n",
    "frankentstein    it was a somewhat desparate  yet fun attempt to revive the \n",
    "classic monsters of the wolf man  frankenstein s monster  and dracula one  last  time  br    br   i say desparate  because in the previous film   house of frankenstein   both dracula and the wolf man are killed according to how the vampire and werewolf legends say they should be  dracula by the sunlight  and the wolf man by a silver bullet   \n",
    "yet somehow they return in house of dracula with no explanation  this movie \n",
    "could have played as a kind of prequel to house of frankenstein \"\"\""
   ]
  },
  {
   "cell_type": "code",
   "execution_count": 112,
   "id": "5c968316-dc8b-41b3-8834-f79f9dd6b07d",
   "metadata": {},
   "outputs": [
    {
     "data": {
      "text/plain": [
       "['film',\n",
       " 'marked',\n",
       " 'end',\n",
       " 'serious',\n",
       " 'universal',\n",
       " 'monsters',\n",
       " 'era',\n",
       " 'abbott',\n",
       " 'costello',\n",
       " 'meet',\n",
       " 'monsters',\n",
       " 'later',\n",
       " 'abbott',\n",
       " 'costello',\n",
       " 'meet',\n",
       " 'frankentstein',\n",
       " 'somewhat',\n",
       " 'desparate',\n",
       " 'yet',\n",
       " 'fun',\n",
       " 'attempt',\n",
       " 'revive',\n",
       " 'classic',\n",
       " 'monsters',\n",
       " 'wolf',\n",
       " 'man',\n",
       " 'frankenstein',\n",
       " 'monster',\n",
       " 'dracula',\n",
       " 'one',\n",
       " 'last',\n",
       " 'time',\n",
       " 'br',\n",
       " 'br',\n",
       " 'say',\n",
       " 'desparate',\n",
       " 'previous',\n",
       " 'film',\n",
       " 'house',\n",
       " 'frankenstein',\n",
       " 'dracula',\n",
       " 'wolf',\n",
       " 'man',\n",
       " 'killed',\n",
       " 'according',\n",
       " 'vampire',\n",
       " 'werewolf',\n",
       " 'legends',\n",
       " 'say',\n",
       " 'dracula',\n",
       " 'sunlight',\n",
       " 'wolf',\n",
       " 'man',\n",
       " 'silver',\n",
       " 'bullet',\n",
       " 'yet',\n",
       " 'somehow',\n",
       " 'return',\n",
       " 'house',\n",
       " 'dracula',\n",
       " 'explanation',\n",
       " 'movie',\n",
       " 'could',\n",
       " 'played',\n",
       " 'kind',\n",
       " 'prequel',\n",
       " 'house',\n",
       " 'frankenstein']"
      ]
     },
     "execution_count": 112,
     "metadata": {},
     "output_type": "execute_result"
    }
   ],
   "source": [
    "remove_stopwords(text4)"
   ]
  },
  {
   "cell_type": "markdown",
   "id": "dde9cd90-529b-46ef-add6-4361e0d700e0",
   "metadata": {},
   "source": [
    "# handling emoji \n",
    "remove \n",
    "\n",
    "replace with its meaning\n",
    "\n",
    "encode with machine lang"
   ]
  },
  {
   "cell_type": "code",
   "execution_count": 117,
   "id": "0906982f-7c2d-4dbe-b841-b4949a4b591c",
   "metadata": {},
   "outputs": [],
   "source": [
    "emoji_text = \"Had an amazing day at the beach 🌊☀️\""
   ]
  },
  {
   "cell_type": "code",
   "execution_count": 119,
   "id": "c3bf7fc2-aad4-431d-9552-c6cc7ac23a90",
   "metadata": {},
   "outputs": [
    {
     "data": {
      "text/plain": [
       "b'Had an amazing day at the beach \\xf0\\x9f\\x8c\\x8a\\xe2\\x98\\x80\\xef\\xb8\\x8f'"
      ]
     },
     "execution_count": 119,
     "metadata": {},
     "output_type": "execute_result"
    }
   ],
   "source": [
    "emoji_text.encode(\"UTF-8\")"
   ]
  },
  {
   "cell_type": "code",
   "execution_count": null,
   "id": "3b768d29-c4a4-46c2-92ef-46c045dd5f76",
   "metadata": {},
   "outputs": [],
   "source": [
    "#remove emoji \n",
    "emoji_text = \"Had an a\n",
    "mazing day at the beach 🌊☀️\"\n"
   ]
  },
  {
   "cell_type": "code",
   "execution_count": 125,
   "id": "b1631552-bd64-4d5d-84ad-2a1e69dae70a",
   "metadata": {},
   "outputs": [],
   "source": [
    "import re\n",
    "\n",
    "def remove_emojis(text):\n",
    "    emoji_pattern = re.compile(\"[\\U0001F600-\\U0001F64F\"   # emoticons\n",
    "                                \"\\U0001F300-\\U0001F5FF\"   # symbols and pictographs\n",
    "                                \"\\U0001F680-\\U0001F6FF\"   # transport and map symbols\n",
    "                                \"\\U0001F700-\\U0001F77F\"   #flags \n",
    "                                \"\\U0001F780-\\U0001F7FF\"\n",
    "                                \"\\U0001F800-\\U0001F8FF\"\n",
    "                                \"\\U0001F900-\\U0001F9FF\"\n",
    "                                \"\\U0001FA00-\\U0001FA6F\"\n",
    "                                \"\\U0001FA70-\\U0001FAFF\"\n",
    "                                \"\\U00002702-\\U000027B0\"\n",
    "                                \"\\U000024C2-\\U0001F251]+\", flags=re.UNICODE)\n",
    "    return emoji_pattern.sub(r\"\", text)\n",
    "\n"
   ]
  },
  {
   "cell_type": "code",
   "execution_count": 127,
   "id": "32d5daf1-0d01-4f8b-9034-06a99575de63",
   "metadata": {},
   "outputs": [
    {
     "data": {
      "text/plain": [
       "'Had an amazing day at the beach '"
      ]
     },
     "execution_count": 127,
     "metadata": {},
     "output_type": "execute_result"
    }
   ],
   "source": [
    "#remove emoji \n",
    "emoji_text = \"Had an amazing day at the beach 🌊☀️\"\n",
    "\n",
    "remove_emojis(emoji_text)"
   ]
  },
  {
   "cell_type": "code",
   "execution_count": 131,
   "id": "d62bcbcb-f0ea-4dd0-8ebf-607bb3e5862c",
   "metadata": {},
   "outputs": [
    {
     "name": "stdout",
     "output_type": "stream",
     "text": [
      "Collecting emoji\n",
      "  Downloading emoji-2.14.1-py3-none-any.whl.metadata (5.7 kB)\n",
      "Downloading emoji-2.14.1-py3-none-any.whl (590 kB)\n",
      "   ---------------------------------------- 0.0/590.6 kB ? eta -:--:--\n",
      "   ---------------------------------------- 0.0/590.6 kB ? eta -:--:--\n",
      "    --------------------------------------- 10.2/590.6 kB ? eta -:--:--\n",
      "   -- ------------------------------------ 41.0/590.6 kB 495.5 kB/s eta 0:00:02\n",
      "   ---- ---------------------------------- 71.7/590.6 kB 653.6 kB/s eta 0:00:01\n",
      "   ------- ------------------------------ 122.9/590.6 kB 654.9 kB/s eta 0:00:01\n",
      "   ----------- -------------------------- 174.1/590.6 kB 876.1 kB/s eta 0:00:01\n",
      "   ----------------- -------------------- 266.2/590.6 kB 966.0 kB/s eta 0:00:01\n",
      "   ------------------- ------------------ 307.2/590.6 kB 999.9 kB/s eta 0:00:01\n",
      "   ---------------------- --------------- 348.2/590.6 kB 982.3 kB/s eta 0:00:01\n",
      "   --------------------------- ------------ 399.4/590.6 kB 1.0 MB/s eta 0:00:01\n",
      "   ---------------------------- --------- 450.6/590.6 kB 972.0 kB/s eta 0:00:01\n",
      "   -------------------------------- ----- 501.8/590.6 kB 983.0 kB/s eta 0:00:01\n",
      "   ---------------------------------------  583.7/590.6 kB 1.1 MB/s eta 0:00:01\n",
      "   ---------------------------------------- 590.6/590.6 kB 1.1 MB/s eta 0:00:00\n",
      "Installing collected packages: emoji\n",
      "Successfully installed emoji-2.14.1\n"
     ]
    }
   ],
   "source": [
    "!pip install emoji"
   ]
  },
  {
   "cell_type": "code",
   "execution_count": 133,
   "id": "944ddca3-2fb6-4e8d-8224-07412774fdfe",
   "metadata": {},
   "outputs": [],
   "source": [
    "import emoji "
   ]
  },
  {
   "cell_type": "code",
   "execution_count": 135,
   "id": "6dc8149d-af80-4c9c-8865-9a1fa862806c",
   "metadata": {},
   "outputs": [
    {
     "name": "stdout",
     "output_type": "stream",
     "text": [
      "Had an amazing day at the beach :water_wave::sun:\n"
     ]
    }
   ],
   "source": [
    "print(emoji.demojize(\"Had an amazing day at the beach 🌊☀️\"))"
   ]
  },
  {
   "cell_type": "code",
   "execution_count": 137,
   "id": "db1d1958-ccfd-4162-a6cd-1a0b75b15ed3",
   "metadata": {},
   "outputs": [
    {
     "data": {
      "text/plain": [
       "'pyhton is :fire:'"
      ]
     },
     "execution_count": 137,
     "metadata": {},
     "output_type": "execute_result"
    }
   ],
   "source": [
    "emoji.demojize(\"pyhton is 🔥\")"
   ]
  },
  {
   "cell_type": "code",
   "execution_count": null,
   "id": "6ed2e201-00b1-4067-9e8f-fea5293d380d",
   "metadata": {},
   "outputs": [],
   "source": []
  }
 ],
 "metadata": {
  "kernelspec": {
   "display_name": "Python 3 (ipykernel)",
   "language": "python",
   "name": "python3"
  },
  "language_info": {
   "codemirror_mode": {
    "name": "ipython",
    "version": 3
   },
   "file_extension": ".py",
   "mimetype": "text/x-python",
   "name": "python",
   "nbconvert_exporter": "python",
   "pygments_lexer": "ipython3",
   "version": "3.12.4"
  }
 },
 "nbformat": 4,
 "nbformat_minor": 5
}
